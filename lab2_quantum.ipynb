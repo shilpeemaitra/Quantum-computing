{
  "nbformat": 4,
  "nbformat_minor": 0,
  "metadata": {
    "colab": {
      "provenance": []
    },
    "kernelspec": {
      "name": "python3",
      "display_name": "Python 3"
    },
    "language_info": {
      "name": "python"
    }
  },
  "cells": [
    {
      "cell_type": "code",
      "source": [
        "!pip install qiskit\n",
        "import qiskit"
      ],
      "metadata": {
        "colab": {
          "base_uri": "https://localhost:8080/"
        },
        "id": "Mvo2YbEgl3fc",
        "outputId": "2d62d5f9-3223-48fe-bd34-cc3d9ffc792c"
      },
      "execution_count": 1,
      "outputs": [
        {
          "output_type": "stream",
          "name": "stdout",
          "text": [
            "Collecting qiskit\n",
            "  Downloading qiskit-1.2.4-cp38-abi3-manylinux_2_17_x86_64.manylinux2014_x86_64.whl.metadata (12 kB)\n",
            "Collecting rustworkx>=0.15.0 (from qiskit)\n",
            "  Downloading rustworkx-0.15.1-cp38-abi3-manylinux_2_17_x86_64.manylinux2014_x86_64.whl.metadata (9.9 kB)\n",
            "Requirement already satisfied: numpy<3,>=1.17 in /usr/local/lib/python3.10/dist-packages (from qiskit) (1.26.4)\n",
            "Requirement already satisfied: scipy>=1.5 in /usr/local/lib/python3.10/dist-packages (from qiskit) (1.13.1)\n",
            "Requirement already satisfied: sympy>=1.3 in /usr/local/lib/python3.10/dist-packages (from qiskit) (1.13.3)\n",
            "Collecting dill>=0.3 (from qiskit)\n",
            "  Downloading dill-0.3.9-py3-none-any.whl.metadata (10 kB)\n",
            "Requirement already satisfied: python-dateutil>=2.8.0 in /usr/local/lib/python3.10/dist-packages (from qiskit) (2.8.2)\n",
            "Collecting stevedore>=3.0.0 (from qiskit)\n",
            "  Downloading stevedore-5.3.0-py3-none-any.whl.metadata (2.3 kB)\n",
            "Requirement already satisfied: typing-extensions in /usr/local/lib/python3.10/dist-packages (from qiskit) (4.12.2)\n",
            "Collecting symengine<0.14,>=0.11 (from qiskit)\n",
            "  Downloading symengine-0.13.0-cp310-cp310-manylinux_2_17_x86_64.manylinux2014_x86_64.whl.metadata (1.2 kB)\n",
            "Requirement already satisfied: six>=1.5 in /usr/local/lib/python3.10/dist-packages (from python-dateutil>=2.8.0->qiskit) (1.16.0)\n",
            "Collecting pbr>=2.0.0 (from stevedore>=3.0.0->qiskit)\n",
            "  Downloading pbr-6.1.0-py2.py3-none-any.whl.metadata (3.4 kB)\n",
            "Requirement already satisfied: mpmath<1.4,>=1.1.0 in /usr/local/lib/python3.10/dist-packages (from sympy>=1.3->qiskit) (1.3.0)\n",
            "Downloading qiskit-1.2.4-cp38-abi3-manylinux_2_17_x86_64.manylinux2014_x86_64.whl (4.8 MB)\n",
            "\u001b[2K   \u001b[90m━━━━━━━━━━━━━━━━━━━━━━━━━━━━━━━━━━━━━━━━\u001b[0m \u001b[32m4.8/4.8 MB\u001b[0m \u001b[31m23.4 MB/s\u001b[0m eta \u001b[36m0:00:00\u001b[0m\n",
            "\u001b[?25hDownloading dill-0.3.9-py3-none-any.whl (119 kB)\n",
            "\u001b[2K   \u001b[90m━━━━━━━━━━━━━━━━━━━━━━━━━━━━━━━━━━━━━━━━\u001b[0m \u001b[32m119.4/119.4 kB\u001b[0m \u001b[31m5.2 MB/s\u001b[0m eta \u001b[36m0:00:00\u001b[0m\n",
            "\u001b[?25hDownloading rustworkx-0.15.1-cp38-abi3-manylinux_2_17_x86_64.manylinux2014_x86_64.whl (2.0 MB)\n",
            "\u001b[2K   \u001b[90m━━━━━━━━━━━━━━━━━━━━━━━━━━━━━━━━━━━━━━━━\u001b[0m \u001b[32m2.0/2.0 MB\u001b[0m \u001b[31m17.5 MB/s\u001b[0m eta \u001b[36m0:00:00\u001b[0m\n",
            "\u001b[?25hDownloading stevedore-5.3.0-py3-none-any.whl (49 kB)\n",
            "\u001b[2K   \u001b[90m━━━━━━━━━━━━━━━━━━━━━━━━━━━━━━━━━━━━━━━━\u001b[0m \u001b[32m49.7/49.7 kB\u001b[0m \u001b[31m2.1 MB/s\u001b[0m eta \u001b[36m0:00:00\u001b[0m\n",
            "\u001b[?25hDownloading symengine-0.13.0-cp310-cp310-manylinux_2_17_x86_64.manylinux2014_x86_64.whl (49.7 MB)\n",
            "\u001b[2K   \u001b[90m━━━━━━━━━━━━━━━━━━━━━━━━━━━━━━━━━━━━━━━━\u001b[0m \u001b[32m49.7/49.7 MB\u001b[0m \u001b[31m11.7 MB/s\u001b[0m eta \u001b[36m0:00:00\u001b[0m\n",
            "\u001b[?25hDownloading pbr-6.1.0-py2.py3-none-any.whl (108 kB)\n",
            "\u001b[2K   \u001b[90m━━━━━━━━━━━━━━━━━━━━━━━━━━━━━━━━━━━━━━━━\u001b[0m \u001b[32m108.5/108.5 kB\u001b[0m \u001b[31m4.9 MB/s\u001b[0m eta \u001b[36m0:00:00\u001b[0m\n",
            "\u001b[?25hInstalling collected packages: symengine, rustworkx, pbr, dill, stevedore, qiskit\n",
            "Successfully installed dill-0.3.9 pbr-6.1.0 qiskit-1.2.4 rustworkx-0.15.1 stevedore-5.3.0 symengine-0.13.0\n"
          ]
        }
      ]
    },
    {
      "cell_type": "code",
      "source": [
        "!pip install pylatexenc"
      ],
      "metadata": {
        "colab": {
          "base_uri": "https://localhost:8080/"
        },
        "id": "N9XTc338p0nE",
        "outputId": "c681f54c-6df2-4c91-f35c-c27ec1ef654e"
      },
      "execution_count": 2,
      "outputs": [
        {
          "output_type": "stream",
          "name": "stdout",
          "text": [
            "Collecting pylatexenc\n",
            "  Downloading pylatexenc-2.10.tar.gz (162 kB)\n",
            "\u001b[?25l     \u001b[90m━━━━━━━━━━━━━━━━━━━━━━━━━━━━━━━━━━━━━━━━\u001b[0m \u001b[32m0.0/162.6 kB\u001b[0m \u001b[31m?\u001b[0m eta \u001b[36m-:--:--\u001b[0m\r\u001b[2K     \u001b[91m━━━━━━━━━━━━━━━━━━━━━━━━━━━━━━━━━━━━━\u001b[0m\u001b[91m╸\u001b[0m\u001b[90m━━\u001b[0m \u001b[32m153.6/162.6 kB\u001b[0m \u001b[31m5.5 MB/s\u001b[0m eta \u001b[36m0:00:01\u001b[0m\r\u001b[2K     \u001b[91m━━━━━━━━━━━━━━━━━━━━━━━━━━━━━━━━━━━━━\u001b[0m\u001b[91m╸\u001b[0m\u001b[90m━━\u001b[0m \u001b[32m153.6/162.6 kB\u001b[0m \u001b[31m5.5 MB/s\u001b[0m eta \u001b[36m0:00:01\u001b[0m\r\u001b[2K     \u001b[90m━━━━━━━━━━━━━━━━━━━━━━━━━━━━━━━━━━━━━━━━\u001b[0m \u001b[32m162.6/162.6 kB\u001b[0m \u001b[31m1.9 MB/s\u001b[0m eta \u001b[36m0:00:00\u001b[0m\n",
            "\u001b[?25h  Preparing metadata (setup.py) ... \u001b[?25l\u001b[?25hdone\n",
            "Building wheels for collected packages: pylatexenc\n",
            "  Building wheel for pylatexenc (setup.py) ... \u001b[?25l\u001b[?25hdone\n",
            "  Created wheel for pylatexenc: filename=pylatexenc-2.10-py3-none-any.whl size=136817 sha256=2ccce5cbbc929bb7a131a2f822505cfbad5b930717341a9543c720c058230101\n",
            "  Stored in directory: /root/.cache/pip/wheels/d3/31/8b/e09b0386afd80cfc556c00408c9aeea5c35c4d484a9c762fd5\n",
            "Successfully built pylatexenc\n",
            "Installing collected packages: pylatexenc\n",
            "Successfully installed pylatexenc-2.10\n"
          ]
        }
      ]
    },
    {
      "cell_type": "code",
      "execution_count": 3,
      "metadata": {
        "id": "KbvvmMN0lm22"
      },
      "outputs": [],
      "source": [
        "from qiskit.quantum_info import Operator\n",
        "from qiskit.quantum_info import Statevector\n",
        "from qiskit import QuantumCircuit\n",
        "from qiskit.visualization import plot_histogram\n",
        "from numpy import sqrt\n",
        "#import matplotlib.pyplot as plt\n",
        "import pylatexenc\n",
        "import numpy as np"
      ]
    },
    {
      "cell_type": "code",
      "source": [
        "X = Operator([[0, 1], [1, 0]])\n",
        "Y = Operator([[0, -1.0j], [1.0j, 0]])\n",
        "Z = Operator([[1, 0], [0, -1]])\n",
        "H = Operator([[1/sqrt(2), 1/sqrt(2)], [1/sqrt(2), -1/sqrt(2)]])\n",
        "S = Operator([[1, 0], [0, 1j]])\n",
        "T = Operator([[1, 0], [0, (1.0+1.0j)/sqrt(2)]])\n",
        "\n",
        "v = Statevector([0,1])"
      ],
      "metadata": {
        "id": "ulNpnINtmAlb"
      },
      "execution_count": 4,
      "outputs": []
    },
    {
      "cell_type": "code",
      "source": [
        "print(\"Initial State Vector |1>:\")\n",
        "print(v)"
      ],
      "metadata": {
        "colab": {
          "base_uri": "https://localhost:8080/"
        },
        "id": "0PBf9JVfpQlJ",
        "outputId": "e4d4db80-3f97-43a1-8219-4dfb6b23eb41"
      },
      "execution_count": 5,
      "outputs": [
        {
          "output_type": "stream",
          "name": "stdout",
          "text": [
            "Initial State Vector |1>:\n",
            "Statevector([0.+0.j, 1.+0.j],\n",
            "            dims=(2,))\n"
          ]
        }
      ]
    },
    {
      "cell_type": "code",
      "source": [
        "v = X @ v\n",
        "\n",
        "print(\"\\nState after applying X gate:\")\n",
        "print(v)"
      ],
      "metadata": {
        "colab": {
          "base_uri": "https://localhost:8080/"
        },
        "id": "2AjTVEhImMUc",
        "outputId": "1bcbd096-a911-461d-d892-570643a2b19e"
      },
      "execution_count": 6,
      "outputs": [
        {
          "output_type": "stream",
          "name": "stdout",
          "text": [
            "\n",
            "State after applying X gate:\n",
            "Operator([[0.+0.j, 1.+0.j],\n",
            "          [0.+0.j, 0.+0.j]],\n",
            "         input_dims=(2,), output_dims=(2,))\n"
          ]
        }
      ]
    },
    {
      "cell_type": "code",
      "source": [
        "v = Y @ v\n",
        "\n",
        "print(\"\\nState after applying Y gate:\")\n",
        "print(v)"
      ],
      "metadata": {
        "colab": {
          "base_uri": "https://localhost:8080/"
        },
        "id": "JKe65y7Dor-V",
        "outputId": "01ffe9c2-0eb3-4827-b68f-ae51a7eb7d69"
      },
      "execution_count": 7,
      "outputs": [
        {
          "output_type": "stream",
          "name": "stdout",
          "text": [
            "\n",
            "State after applying Y gate:\n",
            "Operator([[0.+0.j, 0.+0.j],\n",
            "          [0.+0.j, 0.+1.j]],\n",
            "         input_dims=(2,), output_dims=(2,))\n"
          ]
        }
      ]
    },
    {
      "cell_type": "code",
      "source": [
        "v = Z @ v\n",
        "\n",
        "print(\"\\nState after applying Z gate:\")\n",
        "print(v)"
      ],
      "metadata": {
        "colab": {
          "base_uri": "https://localhost:8080/"
        },
        "id": "QEaYgLAGowg3",
        "outputId": "ffd189a7-4409-48c4-e0a4-c038f2d3d723"
      },
      "execution_count": 8,
      "outputs": [
        {
          "output_type": "stream",
          "name": "stdout",
          "text": [
            "\n",
            "State after applying Z gate:\n",
            "Operator([[0.+0.j, 0.+0.j],\n",
            "          [0.+0.j, 0.-1.j]],\n",
            "         input_dims=(2,), output_dims=(2,))\n"
          ]
        }
      ]
    },
    {
      "cell_type": "code",
      "source": [
        "v = H @ v\n",
        "\n",
        "print(\"\\nState after applying H gate:\")\n",
        "print(v)"
      ],
      "metadata": {
        "colab": {
          "base_uri": "https://localhost:8080/"
        },
        "id": "dL-NFDF6pqS9",
        "outputId": "7835435f-0473-4844-cc5b-82948a87d5e9"
      },
      "execution_count": 9,
      "outputs": [
        {
          "output_type": "stream",
          "name": "stdout",
          "text": [
            "\n",
            "State after applying H gate:\n",
            "Operator([[0.+0.j        , 0.-0.70710678j],\n",
            "          [0.+0.j        , 0.+0.70710678j]],\n",
            "         input_dims=(2,), output_dims=(2,))\n"
          ]
        }
      ]
    },
    {
      "cell_type": "code",
      "source": [
        "v = S @ v\n",
        "\n",
        "print(\"\\nState after applying S gate:\")\n",
        "print(v)"
      ],
      "metadata": {
        "colab": {
          "base_uri": "https://localhost:8080/"
        },
        "id": "sMgcj9lMpsja",
        "outputId": "a2a6f2e8-b82c-44c9-9040-194b889c3757"
      },
      "execution_count": 10,
      "outputs": [
        {
          "output_type": "stream",
          "name": "stdout",
          "text": [
            "\n",
            "State after applying S gate:\n",
            "Operator([[ 0.        +0.j        ,  0.        -0.70710678j],\n",
            "          [ 0.        +0.j        , -0.70710678+0.j        ]],\n",
            "         input_dims=(2,), output_dims=(2,))\n"
          ]
        }
      ]
    },
    {
      "cell_type": "code",
      "source": [
        "v = T @ v\n",
        "\n",
        "print(\"\\nState after applying T gate:\")\n",
        "print(v)"
      ],
      "metadata": {
        "colab": {
          "base_uri": "https://localhost:8080/"
        },
        "id": "c1Dflg-lpu-7",
        "outputId": "38e9738a-9460-4516-df8c-23c972831c5e"
      },
      "execution_count": 11,
      "outputs": [
        {
          "output_type": "stream",
          "name": "stdout",
          "text": [
            "\n",
            "State after applying T gate:\n",
            "Operator([[ 0. +0.j        ,  0. -0.70710678j],\n",
            "          [ 0. +0.j        , -0.5-0.5j       ]],\n",
            "         input_dims=(2,), output_dims=(2,))\n"
          ]
        }
      ]
    },
    {
      "cell_type": "code",
      "source": [
        "circuit = QuantumCircuit(1)\n",
        "circuit.x(0)\n",
        "circuit.y(0)\n",
        "circuit.z(0)\n",
        "circuit.h(0)\n",
        "circuit.s(0)\n",
        "circuit.t(0)\n",
        "\n",
        "display(circuit.draw(output='mpl'))"
      ],
      "metadata": {
        "colab": {
          "base_uri": "https://localhost:8080/",
          "height": 127
        },
        "id": "IOypoSU8pvf8",
        "outputId": "17459d8d-5c2d-4d0b-ea9e-a82d4db33801"
      },
      "execution_count": 12,
      "outputs": [
        {
          "output_type": "display_data",
          "data": {
            "text/plain": [
              "<Figure size 603.508x117.056 with 1 Axes>"
            ],
            "image/png": "[encoded data removed]"
          },
          "metadata": {}
        }
      ]
    },
    {
      "cell_type": "code",
      "source": [
        "ket0 = Statevector([1,0])\n",
        "v = ket0.evolve(circuit)\n",
        "v.draw(\"text\")"
      ],
      "metadata": {
        "colab": {
          "base_uri": "https://localhost:8080/"
        },
        "id": "UaXF8ORzqO4K",
        "outputId": "b0624173-4b19-4946-8fb7-1d5b672bb50c"
      },
      "execution_count": 13,
      "outputs": [
        {
          "output_type": "execute_result",
          "data": {
            "text/plain": [
              "[0. -0.70710678j,0.5+0.5j       ]"
            ]
          },
          "metadata": {},
          "execution_count": 13
        }
      ]
    },
    {
      "cell_type": "code",
      "source": [
        "stats = v.sample_counts(10000)\n",
        "plot_histogram(stats)"
      ],
      "metadata": {
        "colab": {
          "base_uri": "https://localhost:8080/",
          "height": 429
        },
        "id": "YlgnkRusqAxZ",
        "outputId": "2cd947df-5a0a-4a65-e6b3-483ebabd6025"
      },
      "execution_count": 14,
      "outputs": [
        {
          "output_type": "execute_result",
          "data": {
            "text/plain": [
              "<Figure size 640x480 with 1 Axes>"
            ],
            "image/png": "[encoded data removed]"
          },
          "metadata": {},
          "execution_count": 14
        }
      ]
    },
    {
      "cell_type": "code",
      "source": [
        "R = H @ S @ H"
      ],
      "metadata": {
        "id": "lt7B9gIBqHa8"
      },
      "execution_count": 15,
      "outputs": []
    },
    {
      "cell_type": "code",
      "source": [
        "print(\"R = H * S * H matrix:\")\n",
        "print(R)"
      ],
      "metadata": {
        "colab": {
          "base_uri": "https://localhost:8080/"
        },
        "id": "_sav66JHq2s4",
        "outputId": "8f1bc4cb-8460-406d-9081-a31421729143"
      },
      "execution_count": 16,
      "outputs": [
        {
          "output_type": "stream",
          "name": "stdout",
          "text": [
            "R = H * S * H matrix:\n",
            "Operator([[0.5+0.5j, 0.5-0.5j],\n",
            "          [0.5-0.5j, 0.5+0.5j]],\n",
            "         input_dims=(2,), output_dims=(2,))\n"
          ]
        }
      ]
    },
    {
      "cell_type": "code",
      "source": [
        "RD = np.conjugate(R).T\n",
        "identity = R @ RD"
      ],
      "metadata": {
        "id": "uAqp3rLQq4hW"
      },
      "execution_count": 17,
      "outputs": []
    },
    {
      "cell_type": "code",
      "source": [
        "print(\"\\nR * R^†:\")\n",
        "print(identity)"
      ],
      "metadata": {
        "colab": {
          "base_uri": "https://localhost:8080/"
        },
        "id": "vwe7S9Dcq_6M",
        "outputId": "e8bb2ade-d1a0-4ff8-802b-51311228d441"
      },
      "execution_count": 18,
      "outputs": [
        {
          "output_type": "stream",
          "name": "stdout",
          "text": [
            "\n",
            "R * R^†:\n",
            "Operator([[1.+0.00000000e+00j, 0.-2.46519033e-32j],\n",
            "          [0.+2.46519033e-32j, 1.+0.00000000e+00j]],\n",
            "         input_dims=(2,), output_dims=(2,))\n"
          ]
        }
      ]
    },
    {
      "cell_type": "code",
      "source": [
        "uni = np.allclose(identity, np.eye(2))\n",
        "uni"
      ],
      "metadata": {
        "colab": {
          "base_uri": "https://localhost:8080/"
        },
        "id": "gnVtZyBkrDrl",
        "outputId": "cd85a6b1-ef2f-44f9-f729-6d2971e54fec"
      },
      "execution_count": 19,
      "outputs": [
        {
          "output_type": "execute_result",
          "data": {
            "text/plain": [
              "True"
            ]
          },
          "metadata": {},
          "execution_count": 19
        }
      ]
    },
    {
      "cell_type": "code",
      "source": [],
      "metadata": {
        "id": "gwJwp9z8rF4n"
      },
      "execution_count": 19,
      "outputs": []
    }
  ]
}